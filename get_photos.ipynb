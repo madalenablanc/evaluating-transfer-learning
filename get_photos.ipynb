{
 "cells": [
  {
   "cell_type": "code",
   "execution_count": 13,
   "id": "535a8ab6",
   "metadata": {},
   "outputs": [],
   "source": [
    "import time \n",
    " \n",
    "import pandas as pd \n",
    "from selenium import webdriver \n",
    "from selenium.webdriver import Chrome \n",
    "from selenium.webdriver.chrome.service import Service \n",
    "from selenium.webdriver.common.by import By \n",
    "from webdriver_manager.chrome import ChromeDriverManager\n",
    "from selenium.common.exceptions import NoSuchElementException\n",
    "\n",
    "import re\n",
    "import os\n",
    "import io\n",
    "import PIL.Image as Image\n",
    "\n",
    "from array import array\n",
    "import base64\n",
    "\n",
    "import cv2"
   ]
  },
  {
   "cell_type": "code",
   "execution_count": null,
   "id": "039bc63a",
   "metadata": {},
   "outputs": [],
   "source": []
  },
  {
   "cell_type": "code",
   "execution_count": null,
   "id": "094ff78d",
   "metadata": {},
   "outputs": [],
   "source": []
  },
  {
   "cell_type": "code",
   "execution_count": 15,
   "id": "c5f98ea3",
   "metadata": {},
   "outputs": [
    {
     "name": "stderr",
     "output_type": "stream",
     "text": [
      "/tmp/ipykernel_104955/210964506.py:3: DeprecationWarning: headless property is deprecated, instead use add_argument('--headless') or add_argument('--headless=new')\n",
      "  options.headless = True # it's more scalable to work in headless mode\n"
     ]
    },
    {
     "ename": "WebDriverException",
     "evalue": "Message: unknown error: cannot find Chrome binary\nStacktrace:\n#0 0x559a336b74e3 <unknown>\n#1 0x559a333e6c76 <unknown>\n#2 0x559a3340d757 <unknown>\n#3 0x559a3340c029 <unknown>\n#4 0x559a3344accc <unknown>\n#5 0x559a3344a47f <unknown>\n#6 0x559a33441de3 <unknown>\n#7 0x559a334172dd <unknown>\n#8 0x559a3341834e <unknown>\n#9 0x559a336773e4 <unknown>\n#10 0x559a3367b3d7 <unknown>\n#11 0x559a33685b20 <unknown>\n#12 0x559a3367c023 <unknown>\n#13 0x559a3364a1aa <unknown>\n#14 0x559a336a06b8 <unknown>\n#15 0x559a336a0847 <unknown>\n#16 0x559a336b0243 <unknown>\n#17 0x7f77b688f18a <unknown>\n",
     "output_type": "error",
     "traceback": [
      "\u001b[0;31m---------------------------------------------------------------------------\u001b[0m",
      "\u001b[0;31mWebDriverException\u001b[0m                        Traceback (most recent call last)",
      "Cell \u001b[0;32mIn[15], line 11\u001b[0m\n\u001b[1;32m      9\u001b[0m chrome_service \u001b[38;5;241m=\u001b[39m Service(chrome_path) \n\u001b[1;32m     10\u001b[0m \u001b[38;5;66;03m# pass the defined options and service objects to initialize the web driver \u001b[39;00m\n\u001b[0;32m---> 11\u001b[0m driver \u001b[38;5;241m=\u001b[39m Chrome(options\u001b[38;5;241m=\u001b[39moptions, service\u001b[38;5;241m=\u001b[39mchrome_service) \n\u001b[1;32m     12\u001b[0m driver\u001b[38;5;241m.\u001b[39mimplicitly_wait(\u001b[38;5;241m5\u001b[39m)\n",
      "File \u001b[0;32m~/anaconda3/envs/hii/lib/python3.11/site-packages/selenium/webdriver/chrome/webdriver.py:49\u001b[0m, in \u001b[0;36mWebDriver.__init__\u001b[0;34m(self, options, service, keep_alive)\u001b[0m\n\u001b[1;32m     45\u001b[0m \u001b[38;5;28mself\u001b[39m\u001b[38;5;241m.\u001b[39mkeep_alive \u001b[38;5;241m=\u001b[39m keep_alive\n\u001b[1;32m     47\u001b[0m \u001b[38;5;28mself\u001b[39m\u001b[38;5;241m.\u001b[39mservice\u001b[38;5;241m.\u001b[39mpath \u001b[38;5;241m=\u001b[39m DriverFinder\u001b[38;5;241m.\u001b[39mget_path(\u001b[38;5;28mself\u001b[39m\u001b[38;5;241m.\u001b[39mservice, \u001b[38;5;28mself\u001b[39m\u001b[38;5;241m.\u001b[39moptions)\n\u001b[0;32m---> 49\u001b[0m \u001b[38;5;28msuper\u001b[39m()\u001b[38;5;241m.\u001b[39m\u001b[38;5;21m__init__\u001b[39m(\n\u001b[1;32m     50\u001b[0m     DesiredCapabilities\u001b[38;5;241m.\u001b[39mCHROME[\u001b[38;5;124m\"\u001b[39m\u001b[38;5;124mbrowserName\u001b[39m\u001b[38;5;124m\"\u001b[39m],\n\u001b[1;32m     51\u001b[0m     \u001b[38;5;124m\"\u001b[39m\u001b[38;5;124mgoog\u001b[39m\u001b[38;5;124m\"\u001b[39m,\n\u001b[1;32m     52\u001b[0m     \u001b[38;5;28mself\u001b[39m\u001b[38;5;241m.\u001b[39moptions,\n\u001b[1;32m     53\u001b[0m     \u001b[38;5;28mself\u001b[39m\u001b[38;5;241m.\u001b[39mservice,\n\u001b[1;32m     54\u001b[0m     \u001b[38;5;28mself\u001b[39m\u001b[38;5;241m.\u001b[39mkeep_alive,\n\u001b[1;32m     55\u001b[0m )\n",
      "File \u001b[0;32m~/anaconda3/envs/hii/lib/python3.11/site-packages/selenium/webdriver/chromium/webdriver.py:54\u001b[0m, in \u001b[0;36mChromiumDriver.__init__\u001b[0;34m(self, browser_name, vendor_prefix, options, service, keep_alive)\u001b[0m\n\u001b[1;32m     51\u001b[0m \u001b[38;5;28mself\u001b[39m\u001b[38;5;241m.\u001b[39mservice\u001b[38;5;241m.\u001b[39mstart()\n\u001b[1;32m     53\u001b[0m \u001b[38;5;28;01mtry\u001b[39;00m:\n\u001b[0;32m---> 54\u001b[0m     \u001b[38;5;28msuper\u001b[39m()\u001b[38;5;241m.\u001b[39m\u001b[38;5;21m__init__\u001b[39m(\n\u001b[1;32m     55\u001b[0m         command_executor\u001b[38;5;241m=\u001b[39mChromiumRemoteConnection(\n\u001b[1;32m     56\u001b[0m             remote_server_addr\u001b[38;5;241m=\u001b[39m\u001b[38;5;28mself\u001b[39m\u001b[38;5;241m.\u001b[39mservice\u001b[38;5;241m.\u001b[39mservice_url,\n\u001b[1;32m     57\u001b[0m             browser_name\u001b[38;5;241m=\u001b[39mbrowser_name,\n\u001b[1;32m     58\u001b[0m             vendor_prefix\u001b[38;5;241m=\u001b[39mvendor_prefix,\n\u001b[1;32m     59\u001b[0m             keep_alive\u001b[38;5;241m=\u001b[39mkeep_alive,\n\u001b[1;32m     60\u001b[0m             ignore_proxy\u001b[38;5;241m=\u001b[39m\u001b[38;5;28mself\u001b[39m\u001b[38;5;241m.\u001b[39moptions\u001b[38;5;241m.\u001b[39m_ignore_local_proxy,\n\u001b[1;32m     61\u001b[0m         ),\n\u001b[1;32m     62\u001b[0m         options\u001b[38;5;241m=\u001b[39m\u001b[38;5;28mself\u001b[39m\u001b[38;5;241m.\u001b[39moptions,\n\u001b[1;32m     63\u001b[0m     )\n\u001b[1;32m     64\u001b[0m \u001b[38;5;28;01mexcept\u001b[39;00m \u001b[38;5;167;01mException\u001b[39;00m:\n\u001b[1;32m     65\u001b[0m     \u001b[38;5;28mself\u001b[39m\u001b[38;5;241m.\u001b[39mquit()\n",
      "File \u001b[0;32m~/anaconda3/envs/hii/lib/python3.11/site-packages/selenium/webdriver/remote/webdriver.py:206\u001b[0m, in \u001b[0;36mWebDriver.__init__\u001b[0;34m(self, command_executor, keep_alive, file_detector, options)\u001b[0m\n\u001b[1;32m    204\u001b[0m \u001b[38;5;28mself\u001b[39m\u001b[38;5;241m.\u001b[39m_authenticator_id \u001b[38;5;241m=\u001b[39m \u001b[38;5;28;01mNone\u001b[39;00m\n\u001b[1;32m    205\u001b[0m \u001b[38;5;28mself\u001b[39m\u001b[38;5;241m.\u001b[39mstart_client()\n\u001b[0;32m--> 206\u001b[0m \u001b[38;5;28mself\u001b[39m\u001b[38;5;241m.\u001b[39mstart_session(capabilities)\n",
      "File \u001b[0;32m~/anaconda3/envs/hii/lib/python3.11/site-packages/selenium/webdriver/remote/webdriver.py:291\u001b[0m, in \u001b[0;36mWebDriver.start_session\u001b[0;34m(self, capabilities)\u001b[0m\n\u001b[1;32m    283\u001b[0m \u001b[38;5;250m\u001b[39m\u001b[38;5;124;03m\"\"\"Creates a new session with the desired capabilities.\u001b[39;00m\n\u001b[1;32m    284\u001b[0m \n\u001b[1;32m    285\u001b[0m \u001b[38;5;124;03m:Args:\u001b[39;00m\n\u001b[1;32m    286\u001b[0m \u001b[38;5;124;03m - capabilities - a capabilities dict to start the session with.\u001b[39;00m\n\u001b[1;32m    287\u001b[0m \u001b[38;5;124;03m - browser_profile - A selenium.webdriver.firefox.firefox_profile.FirefoxProfile object. Only used if Firefox is requested.\u001b[39;00m\n\u001b[1;32m    288\u001b[0m \u001b[38;5;124;03m\"\"\"\u001b[39;00m\n\u001b[1;32m    290\u001b[0m caps \u001b[38;5;241m=\u001b[39m _create_caps(capabilities)\n\u001b[0;32m--> 291\u001b[0m response \u001b[38;5;241m=\u001b[39m \u001b[38;5;28mself\u001b[39m\u001b[38;5;241m.\u001b[39mexecute(Command\u001b[38;5;241m.\u001b[39mNEW_SESSION, caps)[\u001b[38;5;124m\"\u001b[39m\u001b[38;5;124mvalue\u001b[39m\u001b[38;5;124m\"\u001b[39m]\n\u001b[1;32m    292\u001b[0m \u001b[38;5;28mself\u001b[39m\u001b[38;5;241m.\u001b[39msession_id \u001b[38;5;241m=\u001b[39m response\u001b[38;5;241m.\u001b[39mget(\u001b[38;5;124m\"\u001b[39m\u001b[38;5;124msessionId\u001b[39m\u001b[38;5;124m\"\u001b[39m)\n\u001b[1;32m    293\u001b[0m \u001b[38;5;28mself\u001b[39m\u001b[38;5;241m.\u001b[39mcaps \u001b[38;5;241m=\u001b[39m response\u001b[38;5;241m.\u001b[39mget(\u001b[38;5;124m\"\u001b[39m\u001b[38;5;124mcapabilities\u001b[39m\u001b[38;5;124m\"\u001b[39m)\n",
      "File \u001b[0;32m~/anaconda3/envs/hii/lib/python3.11/site-packages/selenium/webdriver/remote/webdriver.py:346\u001b[0m, in \u001b[0;36mWebDriver.execute\u001b[0;34m(self, driver_command, params)\u001b[0m\n\u001b[1;32m    344\u001b[0m response \u001b[38;5;241m=\u001b[39m \u001b[38;5;28mself\u001b[39m\u001b[38;5;241m.\u001b[39mcommand_executor\u001b[38;5;241m.\u001b[39mexecute(driver_command, params)\n\u001b[1;32m    345\u001b[0m \u001b[38;5;28;01mif\u001b[39;00m response:\n\u001b[0;32m--> 346\u001b[0m     \u001b[38;5;28mself\u001b[39m\u001b[38;5;241m.\u001b[39merror_handler\u001b[38;5;241m.\u001b[39mcheck_response(response)\n\u001b[1;32m    347\u001b[0m     response[\u001b[38;5;124m\"\u001b[39m\u001b[38;5;124mvalue\u001b[39m\u001b[38;5;124m\"\u001b[39m] \u001b[38;5;241m=\u001b[39m \u001b[38;5;28mself\u001b[39m\u001b[38;5;241m.\u001b[39m_unwrap_value(response\u001b[38;5;241m.\u001b[39mget(\u001b[38;5;124m\"\u001b[39m\u001b[38;5;124mvalue\u001b[39m\u001b[38;5;124m\"\u001b[39m, \u001b[38;5;28;01mNone\u001b[39;00m))\n\u001b[1;32m    348\u001b[0m     \u001b[38;5;28;01mreturn\u001b[39;00m response\n",
      "File \u001b[0;32m~/anaconda3/envs/hii/lib/python3.11/site-packages/selenium/webdriver/remote/errorhandler.py:245\u001b[0m, in \u001b[0;36mErrorHandler.check_response\u001b[0;34m(self, response)\u001b[0m\n\u001b[1;32m    243\u001b[0m         alert_text \u001b[38;5;241m=\u001b[39m value[\u001b[38;5;124m\"\u001b[39m\u001b[38;5;124malert\u001b[39m\u001b[38;5;124m\"\u001b[39m]\u001b[38;5;241m.\u001b[39mget(\u001b[38;5;124m\"\u001b[39m\u001b[38;5;124mtext\u001b[39m\u001b[38;5;124m\"\u001b[39m)\n\u001b[1;32m    244\u001b[0m     \u001b[38;5;28;01mraise\u001b[39;00m exception_class(message, screen, stacktrace, alert_text)  \u001b[38;5;66;03m# type: ignore[call-arg]  # mypy is not smart enough here\u001b[39;00m\n\u001b[0;32m--> 245\u001b[0m \u001b[38;5;28;01mraise\u001b[39;00m exception_class(message, screen, stacktrace)\n",
      "\u001b[0;31mWebDriverException\u001b[0m: Message: unknown error: cannot find Chrome binary\nStacktrace:\n#0 0x559a336b74e3 <unknown>\n#1 0x559a333e6c76 <unknown>\n#2 0x559a3340d757 <unknown>\n#3 0x559a3340c029 <unknown>\n#4 0x559a3344accc <unknown>\n#5 0x559a3344a47f <unknown>\n#6 0x559a33441de3 <unknown>\n#7 0x559a334172dd <unknown>\n#8 0x559a3341834e <unknown>\n#9 0x559a336773e4 <unknown>\n#10 0x559a3367b3d7 <unknown>\n#11 0x559a33685b20 <unknown>\n#12 0x559a3367c023 <unknown>\n#13 0x559a3364a1aa <unknown>\n#14 0x559a336a06b8 <unknown>\n#15 0x559a336a0847 <unknown>\n#16 0x559a336b0243 <unknown>\n#17 0x7f77b688f18a <unknown>\n"
     ]
    }
   ],
   "source": [
    "#initialize webdriver\n",
    "# start by defining the options \n",
    "options = webdriver.ChromeOptions() \n",
    "options.headless = True # it's more scalable to work in headless mode \n",
    "# normally, selenium waits for all resources to download \n",
    "# we don't need it as the page also populated with the running javascript code. \n",
    "options.page_load_strategy = 'none' \n",
    "# this returns the path web driver downloaded \n",
    "chrome_path = ChromeDriverManager().install() \n",
    "chrome_service = Service(chrome_path) \n",
    "# pass the defined options and service objects to initialize the web driver \n",
    "driver = Chrome(options=options, service=chrome_service) \n",
    "driver.implicitly_wait(5)"
   ]
  },
  {
   "cell_type": "code",
   "execution_count": null,
   "id": "847c3e8b",
   "metadata": {},
   "outputs": [],
   "source": [
    "url = \"https://www.ua.pt/pt/deti/pessoas?staff=7\"\n",
    "d=driver.get(url)\n",
    "driver.get(url) \n",
    "time.sleep(10)"
   ]
  },
  {
   "cell_type": "code",
   "execution_count": null,
   "id": "6963af18",
   "metadata": {},
   "outputs": [],
   "source": [
    "#get all links in page\n",
    "lnks=driver.find_elements(By.TAG_NAME, \"a\")"
   ]
  },
  {
   "cell_type": "code",
   "execution_count": null,
   "id": "73be1889",
   "metadata": {},
   "outputs": [],
   "source": [
    "def urlmatch(url):\n",
    "    regex=re.compile(r'(https://www.ua.pt/pt/p/*)'\n",
    "                     r'([0-9])'\n",
    "     ,re.IGNORECASE)\n",
    "    \n",
    "    return(re.match(regex,url) is not None)\n"
   ]
  },
  {
   "cell_type": "code",
   "execution_count": null,
   "id": "6e46690d",
   "metadata": {},
   "outputs": [],
   "source": [
    "#get links from people \n",
    "peoplelinks=set()\n",
    "for l in lnks:\n",
    "    p=l.get_attribute('href')\n",
    "    if urlmatch(p):\n",
    "        peoplelinks.add(p)"
   ]
  },
  {
   "cell_type": "code",
   "execution_count": null,
   "id": "a2103dbb",
   "metadata": {},
   "outputs": [],
   "source": [
    "len(peoplelinks) #verification"
   ]
  },
  {
   "cell_type": "code",
   "execution_count": null,
   "id": "789a9508",
   "metadata": {},
   "outputs": [],
   "source": [
    "#gets image from blob link\n",
    "\n",
    "def get_file_content_chrome(driver, uri):\n",
    "  result = driver.execute_async_script(\"\"\"\n",
    "    var uri = arguments[0];\n",
    "    var callback = arguments[1];\n",
    "    var toBase64 = function(buffer){for(var r,n=new Uint8Array(buffer),t=n.length,a=new Uint8Array(4*Math.ceil(t/3)),i=new Uint8Array(64),o=0,c=0;64>c;++c)i[c]=\"ABCDEFGHIJKLMNOPQRSTUVWXYZabcdefghijklmnopqrstuvwxyz0123456789+/\".charCodeAt(c);for(c=0;t-t%3>c;c+=3,o+=4)r=n[c]<<16|n[c+1]<<8|n[c+2],a[o]=i[r>>18],a[o+1]=i[r>>12&63],a[o+2]=i[r>>6&63],a[o+3]=i[63&r];return t%3===1?(r=n[t-1],a[o]=i[r>>2],a[o+1]=i[r<<4&63],a[o+2]=61,a[o+3]=61):t%3===2&&(r=(n[t-2]<<8)+n[t-1],a[o]=i[r>>10],a[o+1]=i[r>>4&63],a[o+2]=i[r<<2&63],a[o+3]=61),new TextDecoder(\"ascii\").decode(a)};\n",
    "    var xhr = new XMLHttpRequest();\n",
    "    xhr.responseType = 'arraybuffer';\n",
    "    xhr.onload = function(){ callback(toBase64(xhr.response)) };\n",
    "    xhr.onerror = function(){ callback(xhr.status) };\n",
    "    xhr.open('GET', uri);\n",
    "    xhr.send();\n",
    "    \"\"\", uri)\n",
    "  if type(result) == int :\n",
    "    raise Exception(\"Request failed with status %s\" % result)\n",
    "  return base64.b64decode(result)\n",
    "#bytes = get_file_content_chrome(driver, blo)\n"
   ]
  },
  {
   "cell_type": "code",
   "execution_count": null,
   "id": "33102cc9",
   "metadata": {},
   "outputs": [],
   "source": [
    "###saves image with prof name\n",
    "\n",
    "#get name of person\n",
    "#name=driver.find_elements(By.TAG_NAME, \"h1\")\n",
    "#for n in name:\n",
    "#    namee=n.text\n",
    "\n",
    "\n",
    "def readimage(path):\n",
    "    count = os.stat(path).st_size / 2\n",
    "    with open(path, \"rb\") as f:\n",
    "        return bytearray(f.read())\n",
    "\n",
    "\n",
    "#image = Image.open(io.BytesIO(bytes))\n",
    "#image.save(namee+'.png')"
   ]
  },
  {
   "cell_type": "code",
   "execution_count": null,
   "id": "c8f5d77d",
   "metadata": {},
   "outputs": [],
   "source": [
    "def downloadimage(url,path):\n",
    "    os.chdir(path)\n",
    "    driver.get(url) \n",
    "    time.sleep(10)\n",
    "    \n",
    "    #get blob link\n",
    "    blo=driver.find_element(By.CSS_SELECTOR, '[alt=\"image\"]').get_attribute(\"src\")\n",
    "\n",
    "        \n",
    "    bytes = get_file_content_chrome(driver, blo)\n",
    "    \n",
    "    #get name of person\n",
    "    name=driver.find_elements(By.TAG_NAME, \"h1\")\n",
    "    for n in name:\n",
    "        namee=n.text\n",
    "    print(namee)\n",
    "        \n",
    "    image = Image.open(io.BytesIO(bytes))\n",
    "    #im=cv2.imread(image)\n",
    "    #ppath=path+namee+'.png'\n",
    "    image.save(namee+'.png')\n",
    "    #cv2.imwrite(path,im)\n",
    "    print('image saved')\n",
    "    return"
   ]
  },
  {
   "cell_type": "code",
   "execution_count": null,
   "id": "7d4ac649",
   "metadata": {},
   "outputs": [],
   "source": [
    "path='/home/madalena/uni/projeto/deti'\n",
    "for p in peoplelinks:\n",
    "    print(p)\n",
    "    try:\n",
    "        downloadimage(p,path)\n",
    "    except NoSuchElementException:\n",
    "        pass\n"
   ]
  },
  {
   "cell_type": "markdown",
   "id": "5e95d6b0",
   "metadata": {},
   "source": [
    "# data augmentation\n",
    "https://neptune.ai/blog/data-augmentation-in-python \n",
    "https://towardsdatascience.com/top-python-libraries-for-image-augmentation-in-computer-vision-2566bed0533e\n"
   ]
  },
  {
   "cell_type": "markdown",
   "id": "14c93e5f",
   "metadata": {},
   "source": [
    "## Augly"
   ]
  },
  {
   "cell_type": "markdown",
   "id": "7ac66703",
   "metadata": {},
   "source": [
    "https://augly.readthedocs.io/en/latest/augly.image.html"
   ]
  },
  {
   "cell_type": "code",
   "execution_count": 9,
   "id": "61213d34",
   "metadata": {},
   "outputs": [],
   "source": [
    "import augly.image as imaug\n",
    "import os\n",
    "from PIL import Image as im"
   ]
  },
  {
   "cell_type": "code",
   "execution_count": 5,
   "id": "1881c8df",
   "metadata": {},
   "outputs": [
    {
     "ename": "FileNotFoundError",
     "evalue": "[Errno 2] No such file or directory: '/home/madalena/uni/projeto/deti/output/'",
     "output_type": "error",
     "traceback": [
      "\u001b[0;31m---------------------------------------------------------------------------\u001b[0m",
      "\u001b[0;31mFileNotFoundError\u001b[0m                         Traceback (most recent call last)",
      "Cell \u001b[0;32mIn[5], line 3\u001b[0m\n\u001b[1;32m      1\u001b[0m path\u001b[38;5;241m=\u001b[39m\u001b[38;5;124m\"\u001b[39m\u001b[38;5;124m/home/madalena/uni/projeto/deti/output/\u001b[39m\u001b[38;5;124m\"\u001b[39m\n\u001b[1;32m      2\u001b[0m images\u001b[38;5;241m=\u001b[39m[]\n\u001b[0;32m----> 3\u001b[0m \u001b[38;5;28;01mfor\u001b[39;00m i \u001b[38;5;129;01min\u001b[39;00m \u001b[43mos\u001b[49m\u001b[38;5;241;43m.\u001b[39;49m\u001b[43mlistdir\u001b[49m\u001b[43m(\u001b[49m\u001b[43mpath\u001b[49m\u001b[43m)\u001b[49m:\n\u001b[1;32m      4\u001b[0m     \u001b[38;5;66;03m#print(i)\u001b[39;00m\n\u001b[1;32m      5\u001b[0m     \u001b[38;5;66;03m#image_path=os.path.join(path,i)\u001b[39;00m\n\u001b[1;32m      6\u001b[0m     \u001b[38;5;66;03m#print(image_path)\u001b[39;00m\n\u001b[1;32m      7\u001b[0m     images\u001b[38;5;241m.\u001b[39mappend(i)\n",
      "\u001b[0;31mFileNotFoundError\u001b[0m: [Errno 2] No such file or directory: '/home/madalena/uni/projeto/deti/output/'"
     ]
    }
   ],
   "source": [
    "path=\"/home/madalena/uni/projeto/deti/output/\"\n",
    "images=[]\n",
    "for i in os.listdir(path):\n",
    "    #print(i)\n",
    "    #image_path=os.path.join(path,i)\n",
    "    #print(image_path)\n",
    "    images.append(i)"
   ]
  },
  {
   "cell_type": "code",
   "execution_count": 30,
   "id": "4230b395",
   "metadata": {},
   "outputs": [],
   "source": [
    "image=im.open(input_path+\"Adão Paulo Soares da Silva.png\")\n",
    "image.show()"
   ]
  },
  {
   "cell_type": "code",
   "execution_count": 49,
   "id": "b9b83dd9",
   "metadata": {},
   "outputs": [
    {
     "name": "stdout",
     "output_type": "stream",
     "text": [
      "João Paulo Silva Barraca.png\n",
      "Diogo Nuno Pereira Gomes.png\n",
      "Luís Miguel de Noronha Pessoa de Amorim.png\n",
      "José Manuel Matos Moreira.png\n",
      "António José Nunes Navarro Rodrigues.png\n",
      "Ana Maria Perfeito Tomé.png\n",
      "Paulo Jorge Salvador Serra Ferreira.png\n",
      "Armando Carlos Domingues da Rocha.png\n",
      "Tiago Marques Godinho.png\n",
      "Maria Beatriz Alves de Sousa Santos.png\n",
      "José Luis Guimarães Oliveira.png\n",
      "Susana de Jesus Mota.png\n",
      "Joaquim Manuel Henriques de Sousa Pinto.png\n",
      "Arnaldo Silva Rodrigues de Oliveira.png\n",
      "Sérgio Guilherme Aleixo de Matos.png\n",
      "Artur José Carneiro Pereira.png\n",
      "Paulo Jorge de Campos Bartolomeu.png\n",
      "Mário Luís Pinto Antunes.png\n",
      "Miguel Augusto Mendes Oliveira e Silva.png\n",
      "Atílio Manuel da Silva Gameiro.png\n",
      "Armando Humberto Moreira Nolasco Pinto.png\n",
      "Paulo Miguel de Jesus Dias.png\n",
      "António Rui de Oliveira e Silva Borges.png\n",
      "Ayman Radwan.png\n",
      "Paulo Jorge dos Santos Gonçalves Ferreira.png\n",
      "Luís António Bastião Silva.png\n",
      "Victor Manuel L. Macedo Marques.png\n",
      "Helder Troca Zagalo.png\n",
      "Osvaldo Manuel da Rocha Pacheco.png\n",
      "Manuel Bernardo Salvador Cunha.png\n",
      "Samuel de Sousa Silva.png\n",
      "Carlos Alberto da Costa Bastos.png\n",
      "Rui Fernando Gomes de Sousa Ribeiro.png\n",
      "Iouliia Skliarova.png\n",
      "António Manuel Duarte Nogueira.png\n",
      "Daniel Nunes Corujo.png\n",
      "Paulo Miguel Nepomuceno Pereira Monteiro.png\n",
      "Joaquim Arnaldo Carvalho Martins.png\n",
      "Pedro Miguel da Silva Cabral.png\n",
      "Luís Filipe de Seabra Lopes.png\n",
      "José Nuno Panelas Nunes Lau.png\n",
      "António Joaquim da Silva Teixeira.png\n",
      "José Carlos Esteves Duarte Pedro.png\n",
      "Rui Luís Andrade Aguiar.png\n",
      "Tomás António Mendes Oliveira e Silva.png\n",
      "Alfredo Miguel Melo Matos.png\n",
      "Ilídio Fernando de Castro Oliveira.png\n",
      "Adão Paulo Soares da Silva.png\n",
      "António Luís Jesus Teixeira.png\n",
      "José Alberto Gouveia Fonseca.png\n",
      "Manuel Alberto Reis de Oliveira Violas.png\n",
      "Pedro Nicolau Faria da Fonseca.png\n",
      "Rui Manuel Escadas Ramos Martins.png\n",
      "Luis Filipe Mesquita Nero Moreira Alves.png\n",
      "Susana Isabel Barreto de Miranda Sargento.png\n",
      "Nuno Miguel Gonçalves Borges de Carvalho.png\n",
      "António Manuel Nunes da Cruz.png\n",
      "André Ventura da Cruz Marnoto Zúquete.png\n",
      "José Luis Costa Pinto de Azevedo.png\n",
      "Anibal Manuel de Oliveira Duarte.png\n",
      "José Maria Amaral Fernandes.png\n",
      "Carlos Manuel Azevedo Costa.png\n",
      "João Manuel de Oliveira e Silva Rodrigues.png\n",
      "Pedro Miguel Ribeiro Lavrador.png\n",
      "Telmo Reis Cunha.png\n",
      "Joaquim João Estrela Ribeiro Silvestre Madeira.png\n",
      "Nuno Filipe Correia de Almeida.png\n",
      "Amaro Fernandes de Sousa.png\n",
      "Manuel de Jesus Ferreira Dinis.png\n",
      "Cláudio Jorge Vieira Teixeira.png\n",
      "Pétia Georgieva Georgieva.png\n",
      "Augusto Marques Ferreira da Silva.png\n",
      "João Nuno Pimentel da Silva Matos.png\n",
      "António José Ribeiro Neves.png\n",
      "Armando José Formoso de Pinho.png\n",
      "Paulo Bacelar Reis Pedreiras.png\n",
      "José Luís Vieira Cura.png\n",
      "Óscar Narciso Mortágua Pereira.png\n",
      "António Manuel Adrego da Rocha.png\n",
      "António Guilherme Rocha Campos.png\n",
      "Mário José Neves de Lima.png\n",
      "Rómulo José Magalhães Martins Antão.png\n",
      "Ernesto Fernando Ventura Martins.png\n",
      "Filipe Miguel Teixeira Pereira da Silva.png\n",
      "José Manuel Neto Vieira.png\n"
     ]
    }
   ],
   "source": [
    "input_path = \"/home/madalena/Documents/projeto/deti/\"\n",
    "output_path = \"/home/madalena/Documents/projeto/train_set/\"\n",
    "\n",
    "for i in os.listdir(input_path):\n",
    "    os.chdir(output_path)\n",
    "    print(i)\n",
    "    os.mkdir(i)\n",
    "    os.chdir(i)\n",
    "    image=im.open(input_path+i)\n",
    "# Augmentation functions can accept image paths as input and\n",
    "# always return the resulting augmented PIL Image\n",
    "    aug1 = imaug.RandomNoise(mean=0.0, var=0.01, seed=42, p=1.0)\n",
    "    image1=aug1(image)\n",
    "    image1.save(i+\"_1.png\")\n",
    "    \n",
    "    aug2=imaug.RandomRotation(min_degrees=0.0, max_degrees=180.0, p=1.0)\n",
    "    image2=aug2(image1)\n",
    "    image2.save(i+\"_2.png\")\n",
    "    \n",
    "    aug3=imaug.OverlayStripes(line_width=0.5, line_color=(255, 255, 255), line_angle=40, line_density=0.3, line_type='solid', line_opacity=0.8, p=1)\n",
    "    image3=aug3(image1)\n",
    "    image3.save(i+\"_3.png\")\n",
    "    \n",
    "    aug4=imaug.Contrast(factor=0.7, p=1)\n",
    "    image4=aug4(image2)\n",
    "    image4.save(i+\"_4.png\")\n",
    "    \n",
    "    aug5=imaug.PerspectiveTransform(sigma=30.0, dx=0.0, dy=0.0, seed=42, p=1)\n",
    "    image5=aug5(image4)\n",
    "    image5.save(i+\"_5.png\")\n",
    "    \n",
    "    aug6=imaug.RandomBlur(min_radius=0.0, max_radius=2.0, p=1)\n",
    "    image6=aug6(image)\n",
    "    image6.save(i+\"_6.png\")\n",
    "    \n",
    "    aug7=imaug.RandomPixelization(min_ratio=0.1, max_ratio=1.0, p=0.7)\n",
    "    image7=aug7(image6)\n",
    "    image7.save(i+\"_7.png\")"
   ]
  },
  {
   "cell_type": "code",
   "execution_count": null,
   "id": "ef68dce9",
   "metadata": {},
   "outputs": [],
   "source": []
  }
 ],
 "metadata": {
  "kernelspec": {
   "display_name": "Python 3 (ipykernel)",
   "language": "python",
   "name": "python3"
  },
  "language_info": {
   "codemirror_mode": {
    "name": "ipython",
    "version": 3
   },
   "file_extension": ".py",
   "mimetype": "text/x-python",
   "name": "python",
   "nbconvert_exporter": "python",
   "pygments_lexer": "ipython3",
   "version": "3.11.3"
  }
 },
 "nbformat": 4,
 "nbformat_minor": 5
}
